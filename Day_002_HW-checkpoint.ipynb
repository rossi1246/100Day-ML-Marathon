{
 "cells": [
  {
   "cell_type": "code",
   "execution_count": 1,
   "metadata": {},
   "outputs": [
    {
     "data": {
      "text/plain": [
       "5"
      ]
     },
     "execution_count": 1,
     "metadata": {},
     "output_type": "execute_result"
    }
   ],
   "source": [
    "作業問題：思考題_請找出一個你認為機器學習可以發光發熱的領域並闡述原因?\n",
    "Ans:生活化產品上...人的消費需求無不離開食衣住行...科技的發展皆是始於人性的需求\n",
    "    在5G網路時代即將來臨，更高速的網路下 其所接收的資訊也就更多\n",
    "    比如 自動化駕駛 可由更高速的網路下 及時分辨路況 告知系統採取動作\n",
    "    這其中的學習模組 就是用機器學習去分辨\n",
    "    另外還有其他智能家具...由於網路的發達 能更及時的傳輸資訊 進而做到多種功能\n",
    "    而這些功能的呈現 很多需要由機器學習來去創造對應的模組\n",
    "    因此我認為生活化的家電或汽車 為需求機器學習這技訴的重要領域\n"
   ]
  },
  {
   "cell_type": "code",
   "execution_count": null,
   "metadata": {},
   "outputs": [],
   "source": []
  }
 ],
 "metadata": {
  "kernelspec": {
   "display_name": "Python 3",
   "language": "python",
   "name": "python3"
  },
  "language_info": {
   "codemirror_mode": {
    "name": "ipython",
    "version": 3
   },
   "file_extension": ".py",
   "mimetype": "text/x-python",
   "name": "python",
   "nbconvert_exporter": "python",
   "pygments_lexer": "ipython3",
   "version": "3.7.4"
  }
 },
 "nbformat": 4,
 "nbformat_minor": 2
}
